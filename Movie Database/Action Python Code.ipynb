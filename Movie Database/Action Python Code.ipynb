{
 "cells": [
  {
   "cell_type": "markdown",
   "metadata": {},
   "source": [
    "# WEBSCRAPPING "
   ]
  },
  {
   "cell_type": "markdown",
   "metadata": {},
   "source": [
    "### loading libraries to use"
   ]
  },
  {
   "cell_type": "code",
   "execution_count": 37,
   "metadata": {},
   "outputs": [],
   "source": [
    "import os"
   ]
  },
  {
   "cell_type": "code",
   "execution_count": 38,
   "metadata": {},
   "outputs": [],
   "source": [
    "import numpy as np"
   ]
  },
  {
   "cell_type": "code",
   "execution_count": 39,
   "metadata": {},
   "outputs": [],
   "source": [
    "import pandas as pd"
   ]
  },
  {
   "cell_type": "code",
   "execution_count": 40,
   "metadata": {},
   "outputs": [],
   "source": [
    "from requests import get"
   ]
  },
  {
   "cell_type": "code",
   "execution_count": 41,
   "metadata": {},
   "outputs": [],
   "source": [
    "from time import sleep\n",
    "from random import randint"
   ]
  },
  {
   "cell_type": "markdown",
   "metadata": {},
   "source": [
    "### see current working directory"
   ]
  },
  {
   "cell_type": "code",
   "execution_count": 42,
   "metadata": {},
   "outputs": [
    {
     "data": {
      "text/plain": [
       "'C:\\\\Users\\\\Student\\\\Documents\\\\3rd Year BDSC701\\\\2nd Semester\\\\DATABASE SYSTEMS NDBS622\\\\DataBaseProject'"
      ]
     },
     "execution_count": 42,
     "metadata": {},
     "output_type": "execute_result"
    }
   ],
   "source": [
    "os.getcwd()"
   ]
  },
  {
   "cell_type": "markdown",
   "metadata": {},
   "source": [
    "### change current working directory"
   ]
  },
  {
   "cell_type": "code",
   "execution_count": 43,
   "metadata": {},
   "outputs": [],
   "source": [
    "os.chdir(\"C:/Users/Student/Documents/3rd Year BDSC701/2nd Semester/DATABASE SYSTEMS NDBS622/DataBaseProject\")"
   ]
  },
  {
   "cell_type": "markdown",
   "metadata": {},
   "source": [
    "### Retrieving HTML code"
   ]
  },
  {
   "cell_type": "code",
   "execution_count": 44,
   "metadata": {},
   "outputs": [
    {
     "name": "stdout",
     "output_type": "stream",
     "text": [
      "\n",
      "\n",
      "\n",
      "<!DOCTYPE html>\n",
      "<html\n",
      "    xmlns:og=\"http://ogp.me/ns#\"\n",
      "    xmlns:fb=\"http://www.facebook.com/2008/fbml\">\n",
      "    <head>\n",
      "         \n",
      "        <meta charset=\"utf-8\">\n",
      "        <meta http-equiv=\"X-UA-Compatible\" content=\"IE=edge\">\n",
      "\n",
      "    <meta name=\"apple-itunes-app\" content=\"app-id=342792525, app-argument=imdb:///?src=mdot\">\n",
      "\n",
      "\n",
      "\n",
      "        <script type=\"text/javascript\">var IMDbTimer={starttime: new Date().getTime(),pt:'java'};</script>\n",
      "\n",
      "<script>\n",
      "    if (typeof uet == 'function') {\n",
      "      uet(\"bb\", \"LoadTitle\", {wb: 1});\n",
      "    }\n",
      "</script>\n",
      "  <script>(function(t){ (t.events = t.events || {})[\"csm_head_pre_title\"] = new Date().getTime(); })(IMDbTimer);</script>\n",
      "        <title>Top 50 Action Movies and TV Shows - IMDb</title>\n",
      "  <script>(function(t){ (t.events = t.events || {})[\"csm_head_post_title\"] = new Date().getTime(); })(IMDbTimer);</script>\n",
      "<script>\n",
      "    if (typeof uet == 'function') {\n",
      "      uet(\"be\", \"LoadTitle\", {wb: 1});\n",
      "    }\n",
      "</script>\n",
      "<script>\n",
      "    if (typeof uex == 'function') {\n",
      "      uex(\"ld\", \"L\n"
     ]
    }
   ],
   "source": [
    "url = 'https://www.imdb.com/search/title/?genres=action&explore=title_type,genres&pf_rd_m=A2FGELUUNOQJNL&pf_rd_p=e0da8c98-35e8-4ebd-8e86-e7d39c92730c&pf_rd_r=8KERVMZHP819ZFVGEEA2&pf_rd_s=center-2&pf_rd_t=15051&pf_rd_i=genre&ref_=ft_gnr_pr2_i_2'\n",
    "\n",
    "response = get(url)\n",
    "print(response.text[:1000])"
   ]
  },
  {
   "cell_type": "markdown",
   "metadata": {},
   "source": [
    "### Creating a BeautifulSoup object to parse HTML content"
   ]
  },
  {
   "cell_type": "code",
   "execution_count": 45,
   "metadata": {},
   "outputs": [
    {
     "data": {
      "text/plain": [
       "bs4.BeautifulSoup"
      ]
     },
     "execution_count": 45,
     "metadata": {},
     "output_type": "execute_result"
    }
   ],
   "source": [
    "from bs4 import BeautifulSoup\n",
    "\n",
    "html_soup = BeautifulSoup(response.text, 'html.parser')\n",
    "type(html_soup)"
   ]
  },
  {
   "cell_type": "markdown",
   "metadata": {},
   "source": [
    "### Function to get all urls"
   ]
  },
  {
   "cell_type": "code",
   "execution_count": 46,
   "metadata": {},
   "outputs": [],
   "source": [
    "def getAndParseURL(url):\n",
    "    result = get(url)\n",
    "    soup = BeautifulSoup(response.text, \"html.parser\")\n",
    "    return(soup)"
   ]
  },
  {
   "cell_type": "markdown",
   "metadata": {},
   "source": [
    "### Multiple pages URLS"
   ]
  },
  {
   "cell_type": "code",
   "execution_count": 47,
   "metadata": {},
   "outputs": [],
   "source": [
    "headers = {\"Accept-Language\": \"en-US, en;q=0.5\"}"
   ]
  },
  {
   "cell_type": "markdown",
   "metadata": {},
   "source": [
    "### scrapping pages where movie years range from 2000 to 2019"
   ]
  },
  {
   "cell_type": "code",
   "execution_count": 48,
   "metadata": {},
   "outputs": [],
   "source": [
    "pages = [str(i) for i in range(1,5)]\n",
    "years_url = [str(i) for i in range(2000,2019)]"
   ]
  },
  {
   "cell_type": "code",
   "execution_count": 49,
   "metadata": {},
   "outputs": [
    {
     "name": "stdout",
     "output_type": "stream",
     "text": [
      "Request: 1; Frequency: 0.9972770650508493 requests/s\n",
      "Request: 2; Frequency: 0.49774083691891796 requests/s\n",
      "Request: 3; Frequency: 0.42687481214052264 requests/s\n",
      "Request: 4; Frequency: 0.4981262091325842 requests/s\n",
      "Request: 5; Frequency: 0.4977754822636723 requests/s\n"
     ]
    }
   ],
   "source": [
    "from time import time\n",
    "start_time = time()\n",
    "requests = 0\n",
    "for _ in range(5):\n",
    "# A request would go here\n",
    "    requests += 1\n",
    "    sleep(randint(1,3))\n",
    "    elapsed_time = time() - start_time\n",
    "    print('Request: {}; Frequency: {} requests/s'.format(requests, requests/elapsed_time))"
   ]
  },
  {
   "cell_type": "code",
   "execution_count": 50,
   "metadata": {},
   "outputs": [
    {
     "name": "stdout",
     "output_type": "stream",
     "text": [
      "Request: 1; Frequency: 0.33192937016970536 requests/s\n",
      "Request: 2; Frequency: 0.33186629890781255 requests/s\n",
      "Request: 3; Frequency: 0.37307935651766605 requests/s\n",
      "Request: 4; Frequency: 0.4423518567491341 requests/s\n",
      "Request: 5; Frequency: 0.4978022803341381 requests/s\n"
     ]
    }
   ],
   "source": [
    "from IPython.core.display import clear_output\n",
    "start_time = time()\n",
    "requests = 0\n",
    "for _ in range(5):\n",
    "# A request would go here\n",
    "    requests += 1\n",
    "    sleep(randint(1,3))\n",
    "    current_time = time()\n",
    "    elapsed_time = current_time - start_time\n",
    "    print('Request: {}; Frequency: {} requests/s'.format(requests, requests/elapsed_time))\n",
    "clear_output(wait = True)"
   ]
  },
  {
   "cell_type": "markdown",
   "metadata": {},
   "source": [
    "### Simulate and provides a warning if the pages extracting are more than those requested"
   ]
  },
  {
   "cell_type": "code",
   "execution_count": 51,
   "metadata": {},
   "outputs": [
    {
     "name": "stderr",
     "output_type": "stream",
     "text": [
      "C:\\Users\\Student\\Anaconda3\\lib\\site-packages\\ipykernel_launcher.py:2: UserWarning: Warning Simulation\n",
      "  \n"
     ]
    }
   ],
   "source": [
    "from warnings import warn\n",
    "warn(\"Warning Simulation\")"
   ]
  },
  {
   "cell_type": "markdown",
   "metadata": {},
   "source": [
    "### Extracting the data for a single movie"
   ]
  },
  {
   "cell_type": "markdown",
   "metadata": {},
   "source": [
    "We can access the first container, which contains information about a single movie, by using list notation on movie_containers"
   ]
  },
  {
   "cell_type": "markdown",
   "metadata": {},
   "source": [
    "### Extracting First Movie Title"
   ]
  },
  {
   "cell_type": "code",
   "execution_count": 52,
   "metadata": {},
   "outputs": [
    {
     "name": "stdout",
     "output_type": "stream",
     "text": [
      "<class 'bs4.element.ResultSet'>\n",
      "50\n"
     ]
    }
   ],
   "source": [
    "movie_containers = html_soup.find_all('div', class_ = 'lister-item mode-advanced')\n",
    "print(type(movie_containers))\n",
    "print(len(movie_containers))"
   ]
  },
  {
   "cell_type": "code",
   "execution_count": 53,
   "metadata": {},
   "outputs": [
    {
     "data": {
      "text/plain": [
       "<div class=\"lister-item mode-advanced\">\n",
       "<div class=\"lister-top-right\">\n",
       "<div class=\"ribbonize\" data-caller=\"filmosearch\" data-tconst=\"tt1190634\"></div>\n",
       "</div>\n",
       "<div class=\"lister-item-image float-left\">\n",
       "<a href=\"/title/tt1190634/\"> <img alt=\"The Boys\" class=\"loadlate\" data-tconst=\"tt1190634\" height=\"98\" loadlate=\"https://m.media-amazon.com/images/M/MV5BNGEyOGJiNWEtMTgwMi00ODU4LTlkMjItZWI4NjFmMzgxZGY2XkEyXkFqcGdeQXVyNjcyNjcyMzQ@._V1_UX67_CR0,0,67,98_AL_.jpg\" src=\"https://m.media-amazon.com/images/G/01/imdb/images/nopicture/large/film-184890147._CB466725069_.png\" width=\"67\"/>\n",
       "</a> </div>\n",
       "<div class=\"lister-item-content\">\n",
       "<h3 class=\"lister-item-header\">\n",
       "<span class=\"lister-item-index unbold text-primary\">1.</span>\n",
       "<a href=\"/title/tt1190634/\">The Boys</a>\n",
       "<span class=\"lister-item-year text-muted unbold\">(2019– )</span>\n",
       "</h3>\n",
       "<p class=\"text-muted \">\n",
       "<span class=\"runtime\">60 min</span>\n",
       "<span class=\"ghost\">|</span>\n",
       "<span class=\"genre\">\n",
       "Action, Comedy, Crime            </span>\n",
       "</p>\n",
       "<div class=\"ratings-bar\">\n",
       "<div class=\"inline-block ratings-imdb-rating\" data-value=\"8.7\" name=\"ir\">\n",
       "<span class=\"global-sprite rating-star imdb-rating\"></span>\n",
       "<strong>8.7</strong>\n",
       "</div>\n",
       "<div class=\"inline-block ratings-user-rating\">\n",
       "<span class=\"userRatingValue\" data-tconst=\"tt1190634\" id=\"urv_tt1190634\">\n",
       "<span class=\"global-sprite rating-star no-rating\"></span>\n",
       "<span class=\"rate\" data-no-rating=\"Rate this\" data-value=\"0\" name=\"ur\">Rate this</span>\n",
       "</span>\n",
       "<div class=\"starBarWidget\" id=\"sb_tt1190634\">\n",
       "<div class=\"rating rating-list\" data-auth=\"\" data-ga-identifier=\"\" data-starbar-class=\"rating-list\" data-user=\"\" id=\"tt1190634|imdb|8.7|8.7|adv_li_tt||advsearch|title\" itemprop=\"aggregateRating\" itemscope=\"\" itemtype=\"http://schema.org/AggregateRating\" title=\"Users rated this 8.7/10 (202,066 votes) - click stars to rate\">\n",
       "<meta content=\"8.7\" itemprop=\"ratingValue\"/>\n",
       "<meta content=\"10\" itemprop=\"bestRating\"/>\n",
       "<meta content=\"202066\" itemprop=\"ratingCount\"/>\n",
       "<span class=\"rating-bg\"> </span>\n",
       "<span class=\"rating-imdb \" style=\"width: 121.8px\"> </span>\n",
       "<span class=\"rating-stars\">\n",
       "<a href=\"/register/login?why=vote\" rel=\"nofollow\" title=\"Register or login to rate this title\"><span>1</span></a>\n",
       "<a href=\"/register/login?why=vote\" rel=\"nofollow\" title=\"Register or login to rate this title\"><span>2</span></a>\n",
       "<a href=\"/register/login?why=vote\" rel=\"nofollow\" title=\"Register or login to rate this title\"><span>3</span></a>\n",
       "<a href=\"/register/login?why=vote\" rel=\"nofollow\" title=\"Register or login to rate this title\"><span>4</span></a>\n",
       "<a href=\"/register/login?why=vote\" rel=\"nofollow\" title=\"Register or login to rate this title\"><span>5</span></a>\n",
       "<a href=\"/register/login?why=vote\" rel=\"nofollow\" title=\"Register or login to rate this title\"><span>6</span></a>\n",
       "<a href=\"/register/login?why=vote\" rel=\"nofollow\" title=\"Register or login to rate this title\"><span>7</span></a>\n",
       "<a href=\"/register/login?why=vote\" rel=\"nofollow\" title=\"Register or login to rate this title\"><span>8</span></a>\n",
       "<a href=\"/register/login?why=vote\" rel=\"nofollow\" title=\"Register or login to rate this title\"><span>9</span></a>\n",
       "<a href=\"/register/login?why=vote\" rel=\"nofollow\" title=\"Register or login to rate this title\"><span>10</span></a>\n",
       "</span>\n",
       "<span class=\"rating-rating \"><span class=\"value\">8.7</span><span class=\"grey\">/</span><span class=\"grey\">10</span></span>\n",
       "<span class=\"rating-cancel \"><a href=\"/title/tt1190634/vote?v=X;k=\" rel=\"nofollow\" title=\"Delete\"><span>X</span></a></span>\n",
       " </div>\n",
       "</div>\n",
       "</div>\n",
       "</div>\n",
       "<p class=\"text-muted\">\n",
       "    A group of vigilantes sets out to take down corrupt superheroes who abuse their superpowers.</p>\n",
       "<p class=\"\">\n",
       "            \n",
       "    Stars:\n",
       "<a href=\"/name/nm0881631/\">Karl Urban</a>, \n",
       "<a href=\"/name/nm4425051/\">Jack Quaid</a>, \n",
       "<a href=\"/name/nm1102278/\">Antony Starr</a>, \n",
       "<a href=\"/name/nm3929195/\">Erin Moriarty</a>\n",
       "</p>\n",
       "<p class=\"sort-num_votes-visible\">\n",
       "<span class=\"text-muted\">Votes:</span>\n",
       "<span data-value=\"202066\" name=\"nv\">202,066</span>\n",
       "</p>\n",
       "</div>\n",
       "</div>"
      ]
     },
     "execution_count": 53,
     "metadata": {},
     "output_type": "execute_result"
    }
   ],
   "source": [
    "first_movie = movie_containers[0]\n",
    "first_movie"
   ]
  },
  {
   "cell_type": "markdown",
   "metadata": {},
   "source": [
    "The name of the movie\n",
    "\n",
    "-You can see that the name is contained within an anchor tag (< a >)\n",
    "\n",
    "-This tag is nested within a header tag (< h3 >)\n",
    "\n",
    "-The < h3 > tag is nested within a < div > tag\n",
    "\n",
    "-This < div > is the third of the divs nested in the container of the first movie. We stored the content of this container in the first_movie variable\n",
    "\n",
    "-If we run first_movie.div, we only get the content of the first div tag"
   ]
  },
  {
   "cell_type": "code",
   "execution_count": 54,
   "metadata": {},
   "outputs": [
    {
     "data": {
      "text/plain": [
       "<a href=\"/title/tt1190634/\">The Boys</a>"
      ]
     },
     "execution_count": 54,
     "metadata": {},
     "output_type": "execute_result"
    }
   ],
   "source": [
    "movie_title = first_movie.h3.a\n",
    "movie_title"
   ]
  },
  {
   "cell_type": "code",
   "execution_count": 55,
   "metadata": {},
   "outputs": [
    {
     "data": {
      "text/plain": [
       "'The Boys'"
      ]
     },
     "execution_count": 55,
     "metadata": {},
     "output_type": "execute_result"
    }
   ],
   "source": [
    "movie_title = first_movie.h3.a.text\n",
    "movie_title"
   ]
  },
  {
   "cell_type": "markdown",
   "metadata": {},
   "source": [
    "### The year of the movie's release"
   ]
  },
  {
   "cell_type": "markdown",
   "metadata": {},
   "source": [
    "We move on with extracting the year. \n",
    "This data is stored within the < span > tag below the < a > that contains the name"
   ]
  },
  {
   "cell_type": "code",
   "execution_count": 56,
   "metadata": {},
   "outputs": [
    {
     "data": {
      "text/plain": [
       "<span class=\"lister-item-year text-muted unbold\">(2019– )</span>"
      ]
     },
     "execution_count": 56,
     "metadata": {},
     "output_type": "execute_result"
    }
   ],
   "source": [
    "first_year = first_movie.find('span', class_ = \"lister-item-year text-muted unbold\")\n",
    "first_year"
   ]
  },
  {
   "cell_type": "markdown",
   "metadata": {},
   "source": [
    "Access the text using attribute notation"
   ]
  },
  {
   "cell_type": "code",
   "execution_count": 57,
   "metadata": {},
   "outputs": [
    {
     "data": {
      "text/plain": [
       "'(2019– )'"
      ]
     },
     "execution_count": 57,
     "metadata": {},
     "output_type": "execute_result"
    }
   ],
   "source": [
    "first_year = first_year.text\n",
    "first_year"
   ]
  },
  {
   "cell_type": "markdown",
   "metadata": {},
   "source": [
    "### The IMDB rating"
   ]
  },
  {
   "cell_type": "code",
   "execution_count": 58,
   "metadata": {},
   "outputs": [
    {
     "data": {
      "text/plain": [
       "<div class=\"inline-block ratings-imdb-rating\" data-value=\"8.7\" name=\"ir\">\n",
       "<span class=\"global-sprite rating-star imdb-rating\"></span>\n",
       "<strong>8.7</strong>\n",
       "</div>"
      ]
     },
     "execution_count": 58,
     "metadata": {},
     "output_type": "execute_result"
    }
   ],
   "source": [
    "first_rating = first_movie.find(\"div\", class_ = \"inline-block ratings-imdb-rating\")\n",
    "first_rating"
   ]
  },
  {
   "cell_type": "code",
   "execution_count": 59,
   "metadata": {},
   "outputs": [
    {
     "data": {
      "text/plain": [
       "8.7"
      ]
     },
     "execution_count": 59,
     "metadata": {},
     "output_type": "execute_result"
    }
   ],
   "source": [
    "first_imdb = float(first_rating.strong.text)\n",
    "first_imdb"
   ]
  },
  {
   "cell_type": "markdown",
   "metadata": {},
   "source": [
    "### The Genre"
   ]
  },
  {
   "cell_type": "code",
   "execution_count": 60,
   "metadata": {},
   "outputs": [
    {
     "data": {
      "text/plain": [
       "<span class=\"genre\">\n",
       "Action, Comedy, Crime            </span>"
      ]
     },
     "execution_count": 60,
     "metadata": {},
     "output_type": "execute_result"
    }
   ],
   "source": [
    "movie_genre = first_movie.find(\"span\" ,class_ = \"genre\")\n",
    "movie_genre"
   ]
  },
  {
   "cell_type": "code",
   "execution_count": 61,
   "metadata": {},
   "outputs": [
    {
     "data": {
      "text/plain": [
       "'\\nAction, Comedy, Crime            '"
      ]
     },
     "execution_count": 61,
     "metadata": {},
     "output_type": "execute_result"
    }
   ],
   "source": [
    "movie_genre.text"
   ]
  },
  {
   "cell_type": "code",
   "execution_count": 62,
   "metadata": {},
   "outputs": [
    {
     "data": {
      "text/plain": [
       "'Action,Comedy,Crime'"
      ]
     },
     "execution_count": 62,
     "metadata": {},
     "output_type": "execute_result"
    }
   ],
   "source": [
    "movie_genre = movie_genre.text.replace(\"\\n\" , \" \")\n",
    "\n",
    "movie_genre = movie_genre.replace(' ', '')\n",
    "movie_genre"
   ]
  },
  {
   "cell_type": "markdown",
   "metadata": {},
   "source": [
    "### Age Restriction"
   ]
  },
  {
   "cell_type": "code",
   "execution_count": 71,
   "metadata": {},
   "outputs": [],
   "source": [
    "first_restriction = first_movie.find(\"span\" , class_ = \"certificate\")\n",
    "first_restriction"
   ]
  },
  {
   "cell_type": "markdown",
   "metadata": {},
   "source": [
    "### The number of votes"
   ]
  },
  {
   "cell_type": "code",
   "execution_count": 72,
   "metadata": {},
   "outputs": [
    {
     "data": {
      "text/plain": [
       "<span data-value=\"202066\" name=\"nv\">202,066</span>"
      ]
     },
     "execution_count": 72,
     "metadata": {},
     "output_type": "execute_result"
    }
   ],
   "source": [
    "first_votes = first_movie.find('span', attrs = {'name':'nv'})\n",
    "first_votes"
   ]
  },
  {
   "cell_type": "code",
   "execution_count": 73,
   "metadata": {},
   "outputs": [
    {
     "data": {
      "text/plain": [
       "'202066'"
      ]
     },
     "execution_count": 73,
     "metadata": {},
     "output_type": "execute_result"
    }
   ],
   "source": [
    "first_votes['data-value']"
   ]
  },
  {
   "cell_type": "code",
   "execution_count": 74,
   "metadata": {},
   "outputs": [
    {
     "data": {
      "text/plain": [
       "202066"
      ]
     },
     "execution_count": 74,
     "metadata": {},
     "output_type": "execute_result"
    }
   ],
   "source": [
    "first_votes = int(first_votes['data-value'])\n",
    "first_votes"
   ]
  },
  {
   "cell_type": "markdown",
   "metadata": {},
   "source": [
    "### Create lists for extractions"
   ]
  },
  {
   "cell_type": "code",
   "execution_count": 75,
   "metadata": {},
   "outputs": [
    {
     "name": "stdout",
     "output_type": "stream",
     "text": [
      "Request:27; Frequency: 0.07174711862112126 requests/s\n"
     ]
    }
   ],
   "source": [
    "# Redeclaring the lists to store data in\n",
    "Names = []\n",
    "Years = []\n",
    "IMDB_Ratings = []\n",
    "Votes = []\n",
    "Restriction = []\n",
    "Category = [] \n",
    "\n",
    "# Preparing the monitoring of the loop\n",
    "start_time = time()\n",
    "requests = 0\n",
    "\n",
    "# For every year in the interval 2000-2017\n",
    "for year_url in years_url:\n",
    "\n",
    "    # For every page in the interval 1-4\n",
    "    for page in pages:\n",
    "\n",
    "        # Make a get request\n",
    "        response = get('https://www.imdb.com/search/title/?title_type=feature,tv_series&sort=year,desc' + year_url +\n",
    "        '&sort=num_votes,desc&page=' + page, headers = headers)\n",
    "\n",
    "        # Pause the loop\n",
    "        sleep(randint(8,15))\n",
    "\n",
    "        # Monitor the requests\n",
    "        requests += 1\n",
    "        elapsed_time = time() - start_time\n",
    "        print('Request:{}; Frequency: {} requests/s'.format(requests, requests/elapsed_time))\n",
    "        clear_output(wait = True)\n",
    "        \n",
    "        # Throw a warning for non-200 status codes\n",
    "        if response.status_code != 200:\n",
    "            warn('Request: {}; Status code: {}'.format(requests, response.status_code))\n",
    "\n",
    "        # Break the loop if the number of requests is greater than expected\n",
    "        if requests > 10:\n",
    "            warn('Number of requests was greater than expected.')\n",
    "            break\n",
    "\n",
    "        # Parse the content of the request with BeautifulSoup\n",
    "        page_html = BeautifulSoup(response.text, 'html.parser')\n",
    "\n",
    "        # Select all the 50 movie containers from a single page\n",
    "        mv_containers = page_html.find_all('div', class_ = 'lister-item mode-advanced')\n",
    "\n",
    "        # For every movie of these 50\n",
    "        for container in mv_containers:\n",
    "            # If the movie has a Votes, then:\n",
    "            if container.find('span', class_ = 'lister-item-year') is not None:\n",
    "\n",
    "                # Scrape the name\n",
    "                name = container.h3.a.text\n",
    "                Names.append(name)\n",
    "\n",
    "                # Scrape the year\n",
    "                year = container.h3.find('span', class_ = 'lister-item-year').text\n",
    "                Years.append(year)\n",
    "            \n",
    "                # Scrape the IMDB rating\n",
    "                imdb = float(container.strong.text)\n",
    "                IMDB_Ratings.append(imdb)\n",
    "\n",
    "                # Scrape the number of votes\n",
    "                vote = container.find('span', attrs = {'name':'nv'})['data-value']\n",
    "                Votes.append(int(vote))\n",
    "                \n",
    "                #Scrape the number of genre\n",
    "                genre = container.find(\"span\", class_ = \"genre\").text\n",
    "                Category.append(genre)\n",
    "                \n",
    "                #scrape the age restriction of media types\n",
    "                age_restriction = container.find(\"span\", class_ = \"certificate\").text\n",
    "                Restriction.append(age_restriction)"
   ]
  },
  {
   "cell_type": "markdown",
   "metadata": {},
   "source": [
    "### Create a dataframe to save lists into a table"
   ]
  },
  {
   "cell_type": "code",
   "execution_count": 87,
   "metadata": {},
   "outputs": [
    {
     "name": "stdout",
     "output_type": "stream",
     "text": [
      "                                                 Media         Year  IMDB  \\\n",
      "0                             The Shawshank Redemption       (1994)   9.3   \n",
      "1                                      The Dark Knight       (2008)   9.0   \n",
      "2                                            Inception       (2010)   8.8   \n",
      "3                                           Fight Club       (1999)   8.8   \n",
      "4                                         Pulp Fiction       (1994)   8.9   \n",
      "5                                         Forrest Gump       (1994)   8.8   \n",
      "6                                      Game of Thrones  (2011–2019)   9.3   \n",
      "7                                           The Matrix       (1999)   8.7   \n",
      "8    The Lord of the Rings: The Fellowship of the Ring       (2001)   8.8   \n",
      "9        The Lord of the Rings: The Return of the King       (2003)   8.9   \n",
      "10                                       The Godfather       (1972)   9.2   \n",
      "11                               The Dark Knight Rises       (2012)   8.4   \n",
      "12                                        Interstellar       (2014)   8.6   \n",
      "13               The Lord of the Rings: The Two Towers       (2002)   8.7   \n",
      "14                                               Se7en       (1995)   8.6   \n",
      "15                                        Breaking Bad  (2008–2013)   9.5   \n",
      "16                                    Django Unchained       (2012)   8.4   \n",
      "17                                           Gladiator       (2000)   8.5   \n",
      "18                                       Batman Begins       (2005)   8.2   \n",
      "19                                        The Avengers       (2012)   8.0   \n",
      "20                            The Silence of the Lambs       (1991)   8.6   \n",
      "21                                Inglourious Basterds       (2009)   8.3   \n",
      "22                                 Saving Private Ryan       (1998)   8.6   \n",
      "23                  Star Wars: Episode IV - A New Hope       (1977)   8.6   \n",
      "24                                    Schindler's List       (1993)   8.9   \n",
      "25                                        The Departed       (2006)   8.5   \n",
      "26                                        The Prestige       (2006)   8.5   \n",
      "27                             The Wolf of Wall Street       (2013)   8.2   \n",
      "28      Star Wars: Episode V - The Empire Strikes Back       (1980)   8.7   \n",
      "29                                      The Green Mile       (1999)   8.6   \n",
      "..                                                 ...          ...   ...   \n",
      "470                           The Silence of the Lambs       (1991)   8.6   \n",
      "471                               Inglourious Basterds       (2009)   8.3   \n",
      "472                                Saving Private Ryan       (1998)   8.6   \n",
      "473                 Star Wars: Episode IV - A New Hope       (1977)   8.6   \n",
      "474                                   Schindler's List       (1993)   8.9   \n",
      "475                                       The Departed       (2006)   8.5   \n",
      "476                                       The Prestige       (2006)   8.5   \n",
      "477                            The Wolf of Wall Street       (2013)   8.2   \n",
      "478     Star Wars: Episode V - The Empire Strikes Back       (1980)   8.7   \n",
      "479                                     The Green Mile       (1999)   8.6   \n",
      "480                                            Memento       (2000)   8.4   \n",
      "481                             The Godfather: Part II       (1974)   9.0   \n",
      "482                                             Avatar       (2009)   7.8   \n",
      "483                                     Shutter Island       (2010)   8.2   \n",
      "484                                    American Beauty       (1999)   8.3   \n",
      "485                                 Back to the Future       (1985)   8.5   \n",
      "486                                            Titanic       (1997)   7.8   \n",
      "487                            Guardians of the Galaxy       (2014)   8.0   \n",
      "488                                 American History X       (1998)   8.5   \n",
      "489                                     V for Vendetta       (2005)   8.2   \n",
      "490                             Léon: The Professional       (1994)   8.5   \n",
      "491  Pirates of the Caribbean: The Curse of the Bla...       (2003)   8.0   \n",
      "492                                         Goodfellas       (1990)   8.7   \n",
      "493                                  Kill Bill: Vol. 1       (2003)   8.1   \n",
      "494                                             WALL·E       (2008)   8.4   \n",
      "495                         Terminator 2: Judgment Day       (1991)   8.5   \n",
      "496                                 The Usual Suspects       (1995)   8.5   \n",
      "497                                         Braveheart       (1995)   8.3   \n",
      "498         Star Wars: Episode VI - Return of the Jedi       (1983)   8.3   \n",
      "499                                       Finding Nemo       (2003)   8.1   \n",
      "\n",
      "       Votes                                  Categories Restriction  \n",
      "0    2297597                         \\nDrama                       R  \n",
      "1    2261822          \\nAction, Crime, Drama                   PG-13  \n",
      "2    2023823     \\nAction, Adventure, Sci-Fi                   PG-13  \n",
      "3    1821262                         \\nDrama                       R  \n",
      "4    1793933                  \\nCrime, Drama                       R  \n",
      "5    1770394                \\nDrama, Romance                   PG-13  \n",
      "6    1717705      \\nAction, Adventure, Drama                   TV-MA  \n",
      "7    1644803                \\nAction, Sci-Fi                       R  \n",
      "8    1630944      \\nAction, Adventure, Drama                   PG-13  \n",
      "9    1615184      \\nAction, Adventure, Drama                   PG-13  \n",
      "10   1585686                  \\nCrime, Drama                       R  \n",
      "11   1492004             \\nAction, Adventure                   PG-13  \n",
      "12   1469639      \\nAdventure, Drama, Sci-Fi                   PG-13  \n",
      "13   1459892      \\nAction, Adventure, Drama                   PG-13  \n",
      "14   1415092         \\nCrime, Drama, Mystery                       R  \n",
      "15   1406342        \\nCrime, Drama, Thriller                   TV-MA  \n",
      "16   1329472                \\nDrama, Western                       R  \n",
      "17   1317748      \\nAction, Adventure, Drama                       R  \n",
      "18   1287848             \\nAction, Adventure                   PG-13  \n",
      "19   1246863     \\nAction, Adventure, Sci-Fi                   PG-13  \n",
      "20   1245696        \\nCrime, Drama, Thriller                       R  \n",
      "21   1240302         \\nAdventure, Drama, War                       R  \n",
      "22   1213448                    \\nDrama, War                       R  \n",
      "23   1211607    \\nAction, Adventure, Fantasy                      PG  \n",
      "24   1192410     \\nBiography, Drama, History                       R  \n",
      "25   1168367        \\nCrime, Drama, Thriller                       R  \n",
      "26   1166030        \\nDrama, Mystery, Sci-Fi                   PG-13  \n",
      "27   1153560       \\nBiography, Crime, Drama                       R  \n",
      "28   1139862    \\nAction, Adventure, Fantasy                      PG  \n",
      "29   1123080         \\nCrime, Drama, Fantasy                       R  \n",
      "..       ...                                         ...         ...  \n",
      "470  1245696        \\nCrime, Drama, Thriller                       R  \n",
      "471  1240302         \\nAdventure, Drama, War                       R  \n",
      "472  1213448                    \\nDrama, War                       R  \n",
      "473  1211607    \\nAction, Adventure, Fantasy                      PG  \n",
      "474  1192410     \\nBiography, Drama, History                       R  \n",
      "475  1168367        \\nCrime, Drama, Thriller                       R  \n",
      "476  1166030        \\nDrama, Mystery, Sci-Fi                   PG-13  \n",
      "477  1153560       \\nBiography, Crime, Drama                       R  \n",
      "478  1139862    \\nAction, Adventure, Fantasy                      PG  \n",
      "479  1123080         \\nCrime, Drama, Fantasy                       R  \n",
      "480  1107818             \\nMystery, Thriller                       R  \n",
      "481  1107868                  \\nCrime, Drama                       R  \n",
      "482  1106231    \\nAction, Adventure, Fantasy                   PG-13  \n",
      "483  1106162             \\nMystery, Thriller                       R  \n",
      "484  1055121                         \\nDrama                       R  \n",
      "485  1036912     \\nAdventure, Comedy, Sci-Fi                      PG  \n",
      "486  1029275                \\nDrama, Romance                   PG-13  \n",
      "487  1029214     \\nAction, Adventure, Comedy                   PG-13  \n",
      "488  1020440                         \\nDrama                       R  \n",
      "489  1016263         \\nAction, Drama, Sci-Fi                       R  \n",
      "490  1015947          \\nAction, Crime, Drama                       R  \n",
      "491  1005246    \\nAction, Adventure, Fantasy                   PG-13  \n",
      "492  1000216       \\nBiography, Crime, Drama                       R  \n",
      "493   984369       \\nAction, Crime, Thriller                       R  \n",
      "494   981770  \\nAnimation, Adventure, Family                       G  \n",
      "495   981465                \\nAction, Sci-Fi                       R  \n",
      "496   975780      \\nCrime, Mystery, Thriller                       R  \n",
      "497   946814     \\nBiography, Drama, History                       R  \n",
      "498   934272    \\nAction, Adventure, Fantasy                      PG  \n",
      "499   934202  \\nAnimation, Adventure, Comedy                       G  \n",
      "\n",
      "[500 rows x 6 columns]\n"
     ]
    }
   ],
   "source": [
    "import pandas as pd\n",
    "\n",
    "Media_extr = pd.DataFrame({'Media': Names,\n",
    "                       'Year': Years,\n",
    "                       'IMDB': IMDB_Ratings,\n",
    "                       'Votes': Votes,\n",
    "                       'Categories' : Category,\n",
    "                        \"Restriction\" : Restriction\n",
    "                       })\n",
    "\n",
    "print(Media_extr)"
   ]
  },
  {
   "cell_type": "markdown",
   "metadata": {},
   "source": [
    "### Data Cleaning"
   ]
  },
  {
   "cell_type": "markdown",
   "metadata": {},
   "source": [
    "### Cleaning the genre extraction"
   ]
  },
  {
   "cell_type": "markdown",
   "metadata": {},
   "source": [
    "### Seperate the 3 genres into 3 different genre columns"
   ]
  },
  {
   "cell_type": "code",
   "execution_count": 88,
   "metadata": {},
   "outputs": [],
   "source": [
    "Media_extr[[\"Genre1\",\"Genre2\",\"Genre3\"]] = Media_extr.Categories.str.split(\", \",expand = True)"
   ]
  },
  {
   "cell_type": "code",
   "execution_count": 89,
   "metadata": {},
   "outputs": [
    {
     "data": {
      "text/html": [
       "<div>\n",
       "<style scoped>\n",
       "    .dataframe tbody tr th:only-of-type {\n",
       "        vertical-align: middle;\n",
       "    }\n",
       "\n",
       "    .dataframe tbody tr th {\n",
       "        vertical-align: top;\n",
       "    }\n",
       "\n",
       "    .dataframe thead th {\n",
       "        text-align: right;\n",
       "    }\n",
       "</style>\n",
       "<table border=\"1\" class=\"dataframe\">\n",
       "  <thead>\n",
       "    <tr style=\"text-align: right;\">\n",
       "      <th></th>\n",
       "      <th>Media</th>\n",
       "      <th>Year</th>\n",
       "      <th>IMDB</th>\n",
       "      <th>Votes</th>\n",
       "      <th>Categories</th>\n",
       "      <th>Restriction</th>\n",
       "      <th>Genre1</th>\n",
       "      <th>Genre2</th>\n",
       "      <th>Genre3</th>\n",
       "    </tr>\n",
       "  </thead>\n",
       "  <tbody>\n",
       "    <tr>\n",
       "      <th>0</th>\n",
       "      <td>The Shawshank Redemption</td>\n",
       "      <td>(1994)</td>\n",
       "      <td>9.3</td>\n",
       "      <td>2297597</td>\n",
       "      <td>\\nDrama</td>\n",
       "      <td>R</td>\n",
       "      <td>\\nDrama</td>\n",
       "      <td>None</td>\n",
       "      <td>None</td>\n",
       "    </tr>\n",
       "    <tr>\n",
       "      <th>1</th>\n",
       "      <td>The Dark Knight</td>\n",
       "      <td>(2008)</td>\n",
       "      <td>9.0</td>\n",
       "      <td>2261822</td>\n",
       "      <td>\\nAction, Crime, Drama</td>\n",
       "      <td>PG-13</td>\n",
       "      <td>\\nAction</td>\n",
       "      <td>Crime</td>\n",
       "      <td>Drama</td>\n",
       "    </tr>\n",
       "    <tr>\n",
       "      <th>2</th>\n",
       "      <td>Inception</td>\n",
       "      <td>(2010)</td>\n",
       "      <td>8.8</td>\n",
       "      <td>2023823</td>\n",
       "      <td>\\nAction, Adventure, Sci-Fi</td>\n",
       "      <td>PG-13</td>\n",
       "      <td>\\nAction</td>\n",
       "      <td>Adventure</td>\n",
       "      <td>Sci-Fi</td>\n",
       "    </tr>\n",
       "    <tr>\n",
       "      <th>3</th>\n",
       "      <td>Fight Club</td>\n",
       "      <td>(1999)</td>\n",
       "      <td>8.8</td>\n",
       "      <td>1821262</td>\n",
       "      <td>\\nDrama</td>\n",
       "      <td>R</td>\n",
       "      <td>\\nDrama</td>\n",
       "      <td>None</td>\n",
       "      <td>None</td>\n",
       "    </tr>\n",
       "    <tr>\n",
       "      <th>4</th>\n",
       "      <td>Pulp Fiction</td>\n",
       "      <td>(1994)</td>\n",
       "      <td>8.9</td>\n",
       "      <td>1793933</td>\n",
       "      <td>\\nCrime, Drama</td>\n",
       "      <td>R</td>\n",
       "      <td>\\nCrime</td>\n",
       "      <td>Drama</td>\n",
       "      <td>None</td>\n",
       "    </tr>\n",
       "  </tbody>\n",
       "</table>\n",
       "</div>"
      ],
      "text/plain": [
       "                      Media    Year  IMDB    Votes  \\\n",
       "0  The Shawshank Redemption  (1994)   9.3  2297597   \n",
       "1           The Dark Knight  (2008)   9.0  2261822   \n",
       "2                 Inception  (2010)   8.8  2023823   \n",
       "3                Fight Club  (1999)   8.8  1821262   \n",
       "4              Pulp Fiction  (1994)   8.9  1793933   \n",
       "\n",
       "                                Categories Restriction               Genre1  \\\n",
       "0                      \\nDrama                       R  \\nDrama               \n",
       "1       \\nAction, Crime, Drama                   PG-13             \\nAction   \n",
       "2  \\nAction, Adventure, Sci-Fi                   PG-13             \\nAction   \n",
       "3                      \\nDrama                       R  \\nDrama               \n",
       "4               \\nCrime, Drama                       R              \\nCrime   \n",
       "\n",
       "              Genre2              Genre3  \n",
       "0               None                None  \n",
       "1              Crime   Drama              \n",
       "2          Adventure  Sci-Fi              \n",
       "3               None                None  \n",
       "4  Drama                            None  "
      ]
     },
     "execution_count": 89,
     "metadata": {},
     "output_type": "execute_result"
    }
   ],
   "source": [
    "Media_extr.head()"
   ]
  },
  {
   "cell_type": "code",
   "execution_count": 94,
   "metadata": {},
   "outputs": [],
   "source": [
    "Media_extr = Media_extr.drop(\"Categories\", axis=1)"
   ]
  },
  {
   "cell_type": "markdown",
   "metadata": {},
   "source": [
    "### Add a column called Type"
   ]
  },
  {
   "cell_type": "code",
   "execution_count": 95,
   "metadata": {},
   "outputs": [],
   "source": [
    "Media_extr.loc[Media_extr['Year'].str.contains('–'), 'Type'] = 'Series'"
   ]
  },
  {
   "cell_type": "markdown",
   "metadata": {},
   "source": [
    "### Genre1 cleaning"
   ]
  },
  {
   "cell_type": "code",
   "execution_count": 109,
   "metadata": {},
   "outputs": [],
   "source": [
    "Media_extr.Genre1 = Media_extr.Genre1.str.replace(\"\\r\\n\",\" \")"
   ]
  },
  {
   "cell_type": "markdown",
   "metadata": {},
   "source": [
    "### Year"
   ]
  },
  {
   "cell_type": "code",
   "execution_count": 117,
   "metadata": {},
   "outputs": [],
   "source": [
    "Media_extr.Year = Media_extr.Year.str.replace(\"(\",\"\")"
   ]
  },
  {
   "cell_type": "code",
   "execution_count": 119,
   "metadata": {},
   "outputs": [],
   "source": [
    "Media_extr.Year = Media_extr.Year.str.replace(\")\",\"\")"
   ]
  },
  {
   "cell_type": "markdown",
   "metadata": {},
   "source": [
    "### Media whose year has a duration is considered to be a series"
   ]
  },
  {
   "cell_type": "code",
   "execution_count": 120,
   "metadata": {},
   "outputs": [
    {
     "data": {
      "text/html": [
       "<div>\n",
       "<style scoped>\n",
       "    .dataframe tbody tr th:only-of-type {\n",
       "        vertical-align: middle;\n",
       "    }\n",
       "\n",
       "    .dataframe tbody tr th {\n",
       "        vertical-align: top;\n",
       "    }\n",
       "\n",
       "    .dataframe thead th {\n",
       "        text-align: right;\n",
       "    }\n",
       "</style>\n",
       "<table border=\"1\" class=\"dataframe\">\n",
       "  <thead>\n",
       "    <tr style=\"text-align: right;\">\n",
       "      <th></th>\n",
       "      <th>Media</th>\n",
       "      <th>Year</th>\n",
       "      <th>IMDB</th>\n",
       "      <th>Votes</th>\n",
       "      <th>Restriction</th>\n",
       "      <th>Genre1</th>\n",
       "      <th>Genre2</th>\n",
       "      <th>Genre3</th>\n",
       "      <th>Type</th>\n",
       "    </tr>\n",
       "  </thead>\n",
       "  <tbody>\n",
       "    <tr>\n",
       "      <th>0</th>\n",
       "      <td>The Shawshank Redemption</td>\n",
       "      <td>1 9 9 4</td>\n",
       "      <td>9.3</td>\n",
       "      <td>2297597</td>\n",
       "      <td>R</td>\n",
       "      <td>Drama</td>\n",
       "      <td>None</td>\n",
       "      <td>None</td>\n",
       "      <td>Movie</td>\n",
       "    </tr>\n",
       "    <tr>\n",
       "      <th>1</th>\n",
       "      <td>The Dark Knight</td>\n",
       "      <td>2 0 0 8</td>\n",
       "      <td>9.0</td>\n",
       "      <td>2261822</td>\n",
       "      <td>PG-13</td>\n",
       "      <td>Action</td>\n",
       "      <td>Crime</td>\n",
       "      <td>Drama</td>\n",
       "      <td>Movie</td>\n",
       "    </tr>\n",
       "    <tr>\n",
       "      <th>2</th>\n",
       "      <td>Inception</td>\n",
       "      <td>2 0 1 0</td>\n",
       "      <td>8.8</td>\n",
       "      <td>2023823</td>\n",
       "      <td>PG-13</td>\n",
       "      <td>Action</td>\n",
       "      <td>Adventure</td>\n",
       "      <td>Sci-Fi</td>\n",
       "      <td>Movie</td>\n",
       "    </tr>\n",
       "    <tr>\n",
       "      <th>3</th>\n",
       "      <td>Fight Club</td>\n",
       "      <td>1 9 9 9</td>\n",
       "      <td>8.8</td>\n",
       "      <td>1821262</td>\n",
       "      <td>R</td>\n",
       "      <td>Drama</td>\n",
       "      <td>None</td>\n",
       "      <td>None</td>\n",
       "      <td>Movie</td>\n",
       "    </tr>\n",
       "    <tr>\n",
       "      <th>4</th>\n",
       "      <td>Pulp Fiction</td>\n",
       "      <td>1 9 9 4</td>\n",
       "      <td>8.9</td>\n",
       "      <td>1793933</td>\n",
       "      <td>R</td>\n",
       "      <td>Crime</td>\n",
       "      <td>Drama</td>\n",
       "      <td>None</td>\n",
       "      <td>Movie</td>\n",
       "    </tr>\n",
       "    <tr>\n",
       "      <th>5</th>\n",
       "      <td>Forrest Gump</td>\n",
       "      <td>1 9 9 4</td>\n",
       "      <td>8.8</td>\n",
       "      <td>1770394</td>\n",
       "      <td>PG-13</td>\n",
       "      <td>Drama</td>\n",
       "      <td>Romance</td>\n",
       "      <td>None</td>\n",
       "      <td>Movie</td>\n",
       "    </tr>\n",
       "    <tr>\n",
       "      <th>6</th>\n",
       "      <td>Game of Thrones</td>\n",
       "      <td>2 0 1 1 – 2 0 1 9</td>\n",
       "      <td>9.3</td>\n",
       "      <td>1717705</td>\n",
       "      <td>TV-MA</td>\n",
       "      <td>Action</td>\n",
       "      <td>Adventure</td>\n",
       "      <td>Drama</td>\n",
       "      <td>Series</td>\n",
       "    </tr>\n",
       "    <tr>\n",
       "      <th>7</th>\n",
       "      <td>The Matrix</td>\n",
       "      <td>1 9 9 9</td>\n",
       "      <td>8.7</td>\n",
       "      <td>1644803</td>\n",
       "      <td>R</td>\n",
       "      <td>Action</td>\n",
       "      <td>Sci-Fi</td>\n",
       "      <td>None</td>\n",
       "      <td>Movie</td>\n",
       "    </tr>\n",
       "    <tr>\n",
       "      <th>8</th>\n",
       "      <td>The Lord of the Rings: The Fellowship of the Ring</td>\n",
       "      <td>2 0 0 1</td>\n",
       "      <td>8.8</td>\n",
       "      <td>1630944</td>\n",
       "      <td>PG-13</td>\n",
       "      <td>Action</td>\n",
       "      <td>Adventure</td>\n",
       "      <td>Drama</td>\n",
       "      <td>Movie</td>\n",
       "    </tr>\n",
       "    <tr>\n",
       "      <th>9</th>\n",
       "      <td>The Lord of the Rings: The Return of the King</td>\n",
       "      <td>2 0 0 3</td>\n",
       "      <td>8.9</td>\n",
       "      <td>1615184</td>\n",
       "      <td>PG-13</td>\n",
       "      <td>Action</td>\n",
       "      <td>Adventure</td>\n",
       "      <td>Drama</td>\n",
       "      <td>Movie</td>\n",
       "    </tr>\n",
       "    <tr>\n",
       "      <th>10</th>\n",
       "      <td>The Godfather</td>\n",
       "      <td>1 9 7 2</td>\n",
       "      <td>9.2</td>\n",
       "      <td>1585686</td>\n",
       "      <td>R</td>\n",
       "      <td>Crime</td>\n",
       "      <td>Drama</td>\n",
       "      <td>None</td>\n",
       "      <td>Movie</td>\n",
       "    </tr>\n",
       "    <tr>\n",
       "      <th>11</th>\n",
       "      <td>The Dark Knight Rises</td>\n",
       "      <td>2 0 1 2</td>\n",
       "      <td>8.4</td>\n",
       "      <td>1492004</td>\n",
       "      <td>PG-13</td>\n",
       "      <td>Action</td>\n",
       "      <td>Adventure</td>\n",
       "      <td>None</td>\n",
       "      <td>Movie</td>\n",
       "    </tr>\n",
       "    <tr>\n",
       "      <th>12</th>\n",
       "      <td>Interstellar</td>\n",
       "      <td>2 0 1 4</td>\n",
       "      <td>8.6</td>\n",
       "      <td>1469639</td>\n",
       "      <td>PG-13</td>\n",
       "      <td>Adventure</td>\n",
       "      <td>Drama</td>\n",
       "      <td>Sci-Fi</td>\n",
       "      <td>Movie</td>\n",
       "    </tr>\n",
       "    <tr>\n",
       "      <th>13</th>\n",
       "      <td>The Lord of the Rings: The Two Towers</td>\n",
       "      <td>2 0 0 2</td>\n",
       "      <td>8.7</td>\n",
       "      <td>1459892</td>\n",
       "      <td>PG-13</td>\n",
       "      <td>Action</td>\n",
       "      <td>Adventure</td>\n",
       "      <td>Drama</td>\n",
       "      <td>Movie</td>\n",
       "    </tr>\n",
       "    <tr>\n",
       "      <th>14</th>\n",
       "      <td>Se7en</td>\n",
       "      <td>1 9 9 5</td>\n",
       "      <td>8.6</td>\n",
       "      <td>1415092</td>\n",
       "      <td>R</td>\n",
       "      <td>Crime</td>\n",
       "      <td>Drama</td>\n",
       "      <td>Mystery</td>\n",
       "      <td>Movie</td>\n",
       "    </tr>\n",
       "    <tr>\n",
       "      <th>15</th>\n",
       "      <td>Breaking Bad</td>\n",
       "      <td>2 0 0 8 – 2 0 1 3</td>\n",
       "      <td>9.5</td>\n",
       "      <td>1406342</td>\n",
       "      <td>TV-MA</td>\n",
       "      <td>Crime</td>\n",
       "      <td>Drama</td>\n",
       "      <td>Thriller</td>\n",
       "      <td>Series</td>\n",
       "    </tr>\n",
       "    <tr>\n",
       "      <th>16</th>\n",
       "      <td>Django Unchained</td>\n",
       "      <td>2 0 1 2</td>\n",
       "      <td>8.4</td>\n",
       "      <td>1329472</td>\n",
       "      <td>R</td>\n",
       "      <td>Drama</td>\n",
       "      <td>Western</td>\n",
       "      <td>None</td>\n",
       "      <td>Movie</td>\n",
       "    </tr>\n",
       "    <tr>\n",
       "      <th>17</th>\n",
       "      <td>Gladiator</td>\n",
       "      <td>2 0 0 0</td>\n",
       "      <td>8.5</td>\n",
       "      <td>1317748</td>\n",
       "      <td>R</td>\n",
       "      <td>Action</td>\n",
       "      <td>Adventure</td>\n",
       "      <td>Drama</td>\n",
       "      <td>Movie</td>\n",
       "    </tr>\n",
       "    <tr>\n",
       "      <th>18</th>\n",
       "      <td>Batman Begins</td>\n",
       "      <td>2 0 0 5</td>\n",
       "      <td>8.2</td>\n",
       "      <td>1287848</td>\n",
       "      <td>PG-13</td>\n",
       "      <td>Action</td>\n",
       "      <td>Adventure</td>\n",
       "      <td>None</td>\n",
       "      <td>Movie</td>\n",
       "    </tr>\n",
       "    <tr>\n",
       "      <th>19</th>\n",
       "      <td>The Avengers</td>\n",
       "      <td>2 0 1 2</td>\n",
       "      <td>8.0</td>\n",
       "      <td>1246863</td>\n",
       "      <td>PG-13</td>\n",
       "      <td>Action</td>\n",
       "      <td>Adventure</td>\n",
       "      <td>Sci-Fi</td>\n",
       "      <td>Movie</td>\n",
       "    </tr>\n",
       "    <tr>\n",
       "      <th>20</th>\n",
       "      <td>The Silence of the Lambs</td>\n",
       "      <td>1 9 9 1</td>\n",
       "      <td>8.6</td>\n",
       "      <td>1245696</td>\n",
       "      <td>R</td>\n",
       "      <td>Crime</td>\n",
       "      <td>Drama</td>\n",
       "      <td>Thriller</td>\n",
       "      <td>Movie</td>\n",
       "    </tr>\n",
       "    <tr>\n",
       "      <th>21</th>\n",
       "      <td>Inglourious Basterds</td>\n",
       "      <td>2 0 0 9</td>\n",
       "      <td>8.3</td>\n",
       "      <td>1240302</td>\n",
       "      <td>R</td>\n",
       "      <td>Adventure</td>\n",
       "      <td>Drama</td>\n",
       "      <td>War</td>\n",
       "      <td>Movie</td>\n",
       "    </tr>\n",
       "    <tr>\n",
       "      <th>22</th>\n",
       "      <td>Saving Private Ryan</td>\n",
       "      <td>1 9 9 8</td>\n",
       "      <td>8.6</td>\n",
       "      <td>1213448</td>\n",
       "      <td>R</td>\n",
       "      <td>Drama</td>\n",
       "      <td>War</td>\n",
       "      <td>None</td>\n",
       "      <td>Movie</td>\n",
       "    </tr>\n",
       "    <tr>\n",
       "      <th>23</th>\n",
       "      <td>Star Wars: Episode IV - A New Hope</td>\n",
       "      <td>1 9 7 7</td>\n",
       "      <td>8.6</td>\n",
       "      <td>1211607</td>\n",
       "      <td>PG</td>\n",
       "      <td>Action</td>\n",
       "      <td>Adventure</td>\n",
       "      <td>Fantasy</td>\n",
       "      <td>Movie</td>\n",
       "    </tr>\n",
       "    <tr>\n",
       "      <th>24</th>\n",
       "      <td>Schindler's List</td>\n",
       "      <td>1 9 9 3</td>\n",
       "      <td>8.9</td>\n",
       "      <td>1192410</td>\n",
       "      <td>R</td>\n",
       "      <td>Biography</td>\n",
       "      <td>Drama</td>\n",
       "      <td>History</td>\n",
       "      <td>Movie</td>\n",
       "    </tr>\n",
       "    <tr>\n",
       "      <th>25</th>\n",
       "      <td>The Departed</td>\n",
       "      <td>2 0 0 6</td>\n",
       "      <td>8.5</td>\n",
       "      <td>1168367</td>\n",
       "      <td>R</td>\n",
       "      <td>Crime</td>\n",
       "      <td>Drama</td>\n",
       "      <td>Thriller</td>\n",
       "      <td>Movie</td>\n",
       "    </tr>\n",
       "    <tr>\n",
       "      <th>26</th>\n",
       "      <td>The Prestige</td>\n",
       "      <td>2 0 0 6</td>\n",
       "      <td>8.5</td>\n",
       "      <td>1166030</td>\n",
       "      <td>PG-13</td>\n",
       "      <td>Drama</td>\n",
       "      <td>Mystery</td>\n",
       "      <td>Sci-Fi</td>\n",
       "      <td>Movie</td>\n",
       "    </tr>\n",
       "    <tr>\n",
       "      <th>27</th>\n",
       "      <td>The Wolf of Wall Street</td>\n",
       "      <td>2 0 1 3</td>\n",
       "      <td>8.2</td>\n",
       "      <td>1153560</td>\n",
       "      <td>R</td>\n",
       "      <td>Biography</td>\n",
       "      <td>Crime</td>\n",
       "      <td>Drama</td>\n",
       "      <td>Movie</td>\n",
       "    </tr>\n",
       "    <tr>\n",
       "      <th>28</th>\n",
       "      <td>Star Wars: Episode V - The Empire Strikes Back</td>\n",
       "      <td>1 9 8 0</td>\n",
       "      <td>8.7</td>\n",
       "      <td>1139862</td>\n",
       "      <td>PG</td>\n",
       "      <td>Action</td>\n",
       "      <td>Adventure</td>\n",
       "      <td>Fantasy</td>\n",
       "      <td>Movie</td>\n",
       "    </tr>\n",
       "    <tr>\n",
       "      <th>29</th>\n",
       "      <td>The Green Mile</td>\n",
       "      <td>1 9 9 9</td>\n",
       "      <td>8.6</td>\n",
       "      <td>1123080</td>\n",
       "      <td>R</td>\n",
       "      <td>Crime</td>\n",
       "      <td>Drama</td>\n",
       "      <td>Fantasy</td>\n",
       "      <td>Movie</td>\n",
       "    </tr>\n",
       "    <tr>\n",
       "      <th>...</th>\n",
       "      <td>...</td>\n",
       "      <td>...</td>\n",
       "      <td>...</td>\n",
       "      <td>...</td>\n",
       "      <td>...</td>\n",
       "      <td>...</td>\n",
       "      <td>...</td>\n",
       "      <td>...</td>\n",
       "      <td>...</td>\n",
       "    </tr>\n",
       "    <tr>\n",
       "      <th>470</th>\n",
       "      <td>The Silence of the Lambs</td>\n",
       "      <td>1 9 9 1</td>\n",
       "      <td>8.6</td>\n",
       "      <td>1245696</td>\n",
       "      <td>R</td>\n",
       "      <td>Crime</td>\n",
       "      <td>Drama</td>\n",
       "      <td>Thriller</td>\n",
       "      <td>Movie</td>\n",
       "    </tr>\n",
       "    <tr>\n",
       "      <th>471</th>\n",
       "      <td>Inglourious Basterds</td>\n",
       "      <td>2 0 0 9</td>\n",
       "      <td>8.3</td>\n",
       "      <td>1240302</td>\n",
       "      <td>R</td>\n",
       "      <td>Adventure</td>\n",
       "      <td>Drama</td>\n",
       "      <td>War</td>\n",
       "      <td>Movie</td>\n",
       "    </tr>\n",
       "    <tr>\n",
       "      <th>472</th>\n",
       "      <td>Saving Private Ryan</td>\n",
       "      <td>1 9 9 8</td>\n",
       "      <td>8.6</td>\n",
       "      <td>1213448</td>\n",
       "      <td>R</td>\n",
       "      <td>Drama</td>\n",
       "      <td>War</td>\n",
       "      <td>None</td>\n",
       "      <td>Movie</td>\n",
       "    </tr>\n",
       "    <tr>\n",
       "      <th>473</th>\n",
       "      <td>Star Wars: Episode IV - A New Hope</td>\n",
       "      <td>1 9 7 7</td>\n",
       "      <td>8.6</td>\n",
       "      <td>1211607</td>\n",
       "      <td>PG</td>\n",
       "      <td>Action</td>\n",
       "      <td>Adventure</td>\n",
       "      <td>Fantasy</td>\n",
       "      <td>Movie</td>\n",
       "    </tr>\n",
       "    <tr>\n",
       "      <th>474</th>\n",
       "      <td>Schindler's List</td>\n",
       "      <td>1 9 9 3</td>\n",
       "      <td>8.9</td>\n",
       "      <td>1192410</td>\n",
       "      <td>R</td>\n",
       "      <td>Biography</td>\n",
       "      <td>Drama</td>\n",
       "      <td>History</td>\n",
       "      <td>Movie</td>\n",
       "    </tr>\n",
       "    <tr>\n",
       "      <th>475</th>\n",
       "      <td>The Departed</td>\n",
       "      <td>2 0 0 6</td>\n",
       "      <td>8.5</td>\n",
       "      <td>1168367</td>\n",
       "      <td>R</td>\n",
       "      <td>Crime</td>\n",
       "      <td>Drama</td>\n",
       "      <td>Thriller</td>\n",
       "      <td>Movie</td>\n",
       "    </tr>\n",
       "    <tr>\n",
       "      <th>476</th>\n",
       "      <td>The Prestige</td>\n",
       "      <td>2 0 0 6</td>\n",
       "      <td>8.5</td>\n",
       "      <td>1166030</td>\n",
       "      <td>PG-13</td>\n",
       "      <td>Drama</td>\n",
       "      <td>Mystery</td>\n",
       "      <td>Sci-Fi</td>\n",
       "      <td>Movie</td>\n",
       "    </tr>\n",
       "    <tr>\n",
       "      <th>477</th>\n",
       "      <td>The Wolf of Wall Street</td>\n",
       "      <td>2 0 1 3</td>\n",
       "      <td>8.2</td>\n",
       "      <td>1153560</td>\n",
       "      <td>R</td>\n",
       "      <td>Biography</td>\n",
       "      <td>Crime</td>\n",
       "      <td>Drama</td>\n",
       "      <td>Movie</td>\n",
       "    </tr>\n",
       "    <tr>\n",
       "      <th>478</th>\n",
       "      <td>Star Wars: Episode V - The Empire Strikes Back</td>\n",
       "      <td>1 9 8 0</td>\n",
       "      <td>8.7</td>\n",
       "      <td>1139862</td>\n",
       "      <td>PG</td>\n",
       "      <td>Action</td>\n",
       "      <td>Adventure</td>\n",
       "      <td>Fantasy</td>\n",
       "      <td>Movie</td>\n",
       "    </tr>\n",
       "    <tr>\n",
       "      <th>479</th>\n",
       "      <td>The Green Mile</td>\n",
       "      <td>1 9 9 9</td>\n",
       "      <td>8.6</td>\n",
       "      <td>1123080</td>\n",
       "      <td>R</td>\n",
       "      <td>Crime</td>\n",
       "      <td>Drama</td>\n",
       "      <td>Fantasy</td>\n",
       "      <td>Movie</td>\n",
       "    </tr>\n",
       "    <tr>\n",
       "      <th>480</th>\n",
       "      <td>Memento</td>\n",
       "      <td>2 0 0 0</td>\n",
       "      <td>8.4</td>\n",
       "      <td>1107818</td>\n",
       "      <td>R</td>\n",
       "      <td>Mystery</td>\n",
       "      <td>Thriller</td>\n",
       "      <td>None</td>\n",
       "      <td>Movie</td>\n",
       "    </tr>\n",
       "    <tr>\n",
       "      <th>481</th>\n",
       "      <td>The Godfather: Part II</td>\n",
       "      <td>1 9 7 4</td>\n",
       "      <td>9.0</td>\n",
       "      <td>1107868</td>\n",
       "      <td>R</td>\n",
       "      <td>Crime</td>\n",
       "      <td>Drama</td>\n",
       "      <td>None</td>\n",
       "      <td>Movie</td>\n",
       "    </tr>\n",
       "    <tr>\n",
       "      <th>482</th>\n",
       "      <td>Avatar</td>\n",
       "      <td>2 0 0 9</td>\n",
       "      <td>7.8</td>\n",
       "      <td>1106231</td>\n",
       "      <td>PG-13</td>\n",
       "      <td>Action</td>\n",
       "      <td>Adventure</td>\n",
       "      <td>Fantasy</td>\n",
       "      <td>Movie</td>\n",
       "    </tr>\n",
       "    <tr>\n",
       "      <th>483</th>\n",
       "      <td>Shutter Island</td>\n",
       "      <td>2 0 1 0</td>\n",
       "      <td>8.2</td>\n",
       "      <td>1106162</td>\n",
       "      <td>R</td>\n",
       "      <td>Mystery</td>\n",
       "      <td>Thriller</td>\n",
       "      <td>None</td>\n",
       "      <td>Movie</td>\n",
       "    </tr>\n",
       "    <tr>\n",
       "      <th>484</th>\n",
       "      <td>American Beauty</td>\n",
       "      <td>1 9 9 9</td>\n",
       "      <td>8.3</td>\n",
       "      <td>1055121</td>\n",
       "      <td>R</td>\n",
       "      <td>Drama</td>\n",
       "      <td>None</td>\n",
       "      <td>None</td>\n",
       "      <td>Movie</td>\n",
       "    </tr>\n",
       "    <tr>\n",
       "      <th>485</th>\n",
       "      <td>Back to the Future</td>\n",
       "      <td>1 9 8 5</td>\n",
       "      <td>8.5</td>\n",
       "      <td>1036912</td>\n",
       "      <td>PG</td>\n",
       "      <td>Adventure</td>\n",
       "      <td>Comedy</td>\n",
       "      <td>Sci-Fi</td>\n",
       "      <td>Movie</td>\n",
       "    </tr>\n",
       "    <tr>\n",
       "      <th>486</th>\n",
       "      <td>Titanic</td>\n",
       "      <td>1 9 9 7</td>\n",
       "      <td>7.8</td>\n",
       "      <td>1029275</td>\n",
       "      <td>PG-13</td>\n",
       "      <td>Drama</td>\n",
       "      <td>Romance</td>\n",
       "      <td>None</td>\n",
       "      <td>Movie</td>\n",
       "    </tr>\n",
       "    <tr>\n",
       "      <th>487</th>\n",
       "      <td>Guardians of the Galaxy</td>\n",
       "      <td>2 0 1 4</td>\n",
       "      <td>8.0</td>\n",
       "      <td>1029214</td>\n",
       "      <td>PG-13</td>\n",
       "      <td>Action</td>\n",
       "      <td>Adventure</td>\n",
       "      <td>Comedy</td>\n",
       "      <td>Movie</td>\n",
       "    </tr>\n",
       "    <tr>\n",
       "      <th>488</th>\n",
       "      <td>American History X</td>\n",
       "      <td>1 9 9 8</td>\n",
       "      <td>8.5</td>\n",
       "      <td>1020440</td>\n",
       "      <td>R</td>\n",
       "      <td>Drama</td>\n",
       "      <td>None</td>\n",
       "      <td>None</td>\n",
       "      <td>Movie</td>\n",
       "    </tr>\n",
       "    <tr>\n",
       "      <th>489</th>\n",
       "      <td>V for Vendetta</td>\n",
       "      <td>2 0 0 5</td>\n",
       "      <td>8.2</td>\n",
       "      <td>1016263</td>\n",
       "      <td>R</td>\n",
       "      <td>Action</td>\n",
       "      <td>Drama</td>\n",
       "      <td>Sci-Fi</td>\n",
       "      <td>Movie</td>\n",
       "    </tr>\n",
       "    <tr>\n",
       "      <th>490</th>\n",
       "      <td>Léon: The Professional</td>\n",
       "      <td>1 9 9 4</td>\n",
       "      <td>8.5</td>\n",
       "      <td>1015947</td>\n",
       "      <td>R</td>\n",
       "      <td>Action</td>\n",
       "      <td>Crime</td>\n",
       "      <td>Drama</td>\n",
       "      <td>Movie</td>\n",
       "    </tr>\n",
       "    <tr>\n",
       "      <th>491</th>\n",
       "      <td>Pirates of the Caribbean: The Curse of the Bla...</td>\n",
       "      <td>2 0 0 3</td>\n",
       "      <td>8.0</td>\n",
       "      <td>1005246</td>\n",
       "      <td>PG-13</td>\n",
       "      <td>Action</td>\n",
       "      <td>Adventure</td>\n",
       "      <td>Fantasy</td>\n",
       "      <td>Movie</td>\n",
       "    </tr>\n",
       "    <tr>\n",
       "      <th>492</th>\n",
       "      <td>Goodfellas</td>\n",
       "      <td>1 9 9 0</td>\n",
       "      <td>8.7</td>\n",
       "      <td>1000216</td>\n",
       "      <td>R</td>\n",
       "      <td>Biography</td>\n",
       "      <td>Crime</td>\n",
       "      <td>Drama</td>\n",
       "      <td>Movie</td>\n",
       "    </tr>\n",
       "    <tr>\n",
       "      <th>493</th>\n",
       "      <td>Kill Bill: Vol. 1</td>\n",
       "      <td>2 0 0 3</td>\n",
       "      <td>8.1</td>\n",
       "      <td>984369</td>\n",
       "      <td>R</td>\n",
       "      <td>Action</td>\n",
       "      <td>Crime</td>\n",
       "      <td>Thriller</td>\n",
       "      <td>Movie</td>\n",
       "    </tr>\n",
       "    <tr>\n",
       "      <th>494</th>\n",
       "      <td>WALL·E</td>\n",
       "      <td>2 0 0 8</td>\n",
       "      <td>8.4</td>\n",
       "      <td>981770</td>\n",
       "      <td>G</td>\n",
       "      <td>Animation</td>\n",
       "      <td>Adventure</td>\n",
       "      <td>Family</td>\n",
       "      <td>Movie</td>\n",
       "    </tr>\n",
       "    <tr>\n",
       "      <th>495</th>\n",
       "      <td>Terminator 2: Judgment Day</td>\n",
       "      <td>1 9 9 1</td>\n",
       "      <td>8.5</td>\n",
       "      <td>981465</td>\n",
       "      <td>R</td>\n",
       "      <td>Action</td>\n",
       "      <td>Sci-Fi</td>\n",
       "      <td>None</td>\n",
       "      <td>Movie</td>\n",
       "    </tr>\n",
       "    <tr>\n",
       "      <th>496</th>\n",
       "      <td>The Usual Suspects</td>\n",
       "      <td>1 9 9 5</td>\n",
       "      <td>8.5</td>\n",
       "      <td>975780</td>\n",
       "      <td>R</td>\n",
       "      <td>Crime</td>\n",
       "      <td>Mystery</td>\n",
       "      <td>Thriller</td>\n",
       "      <td>Movie</td>\n",
       "    </tr>\n",
       "    <tr>\n",
       "      <th>497</th>\n",
       "      <td>Braveheart</td>\n",
       "      <td>1 9 9 5</td>\n",
       "      <td>8.3</td>\n",
       "      <td>946814</td>\n",
       "      <td>R</td>\n",
       "      <td>Biography</td>\n",
       "      <td>Drama</td>\n",
       "      <td>History</td>\n",
       "      <td>Movie</td>\n",
       "    </tr>\n",
       "    <tr>\n",
       "      <th>498</th>\n",
       "      <td>Star Wars: Episode VI - Return of the Jedi</td>\n",
       "      <td>1 9 8 3</td>\n",
       "      <td>8.3</td>\n",
       "      <td>934272</td>\n",
       "      <td>PG</td>\n",
       "      <td>Action</td>\n",
       "      <td>Adventure</td>\n",
       "      <td>Fantasy</td>\n",
       "      <td>Movie</td>\n",
       "    </tr>\n",
       "    <tr>\n",
       "      <th>499</th>\n",
       "      <td>Finding Nemo</td>\n",
       "      <td>2 0 0 3</td>\n",
       "      <td>8.1</td>\n",
       "      <td>934202</td>\n",
       "      <td>G</td>\n",
       "      <td>Animation</td>\n",
       "      <td>Adventure</td>\n",
       "      <td>Comedy</td>\n",
       "      <td>Movie</td>\n",
       "    </tr>\n",
       "  </tbody>\n",
       "</table>\n",
       "<p>500 rows × 9 columns</p>\n",
       "</div>"
      ],
      "text/plain": [
       "                                                 Media  \\\n",
       "0                             The Shawshank Redemption   \n",
       "1                                      The Dark Knight   \n",
       "2                                            Inception   \n",
       "3                                           Fight Club   \n",
       "4                                         Pulp Fiction   \n",
       "5                                         Forrest Gump   \n",
       "6                                      Game of Thrones   \n",
       "7                                           The Matrix   \n",
       "8    The Lord of the Rings: The Fellowship of the Ring   \n",
       "9        The Lord of the Rings: The Return of the King   \n",
       "10                                       The Godfather   \n",
       "11                               The Dark Knight Rises   \n",
       "12                                        Interstellar   \n",
       "13               The Lord of the Rings: The Two Towers   \n",
       "14                                               Se7en   \n",
       "15                                        Breaking Bad   \n",
       "16                                    Django Unchained   \n",
       "17                                           Gladiator   \n",
       "18                                       Batman Begins   \n",
       "19                                        The Avengers   \n",
       "20                            The Silence of the Lambs   \n",
       "21                                Inglourious Basterds   \n",
       "22                                 Saving Private Ryan   \n",
       "23                  Star Wars: Episode IV - A New Hope   \n",
       "24                                    Schindler's List   \n",
       "25                                        The Departed   \n",
       "26                                        The Prestige   \n",
       "27                             The Wolf of Wall Street   \n",
       "28      Star Wars: Episode V - The Empire Strikes Back   \n",
       "29                                      The Green Mile   \n",
       "..                                                 ...   \n",
       "470                           The Silence of the Lambs   \n",
       "471                               Inglourious Basterds   \n",
       "472                                Saving Private Ryan   \n",
       "473                 Star Wars: Episode IV - A New Hope   \n",
       "474                                   Schindler's List   \n",
       "475                                       The Departed   \n",
       "476                                       The Prestige   \n",
       "477                            The Wolf of Wall Street   \n",
       "478     Star Wars: Episode V - The Empire Strikes Back   \n",
       "479                                     The Green Mile   \n",
       "480                                            Memento   \n",
       "481                             The Godfather: Part II   \n",
       "482                                             Avatar   \n",
       "483                                     Shutter Island   \n",
       "484                                    American Beauty   \n",
       "485                                 Back to the Future   \n",
       "486                                            Titanic   \n",
       "487                            Guardians of the Galaxy   \n",
       "488                                 American History X   \n",
       "489                                     V for Vendetta   \n",
       "490                             Léon: The Professional   \n",
       "491  Pirates of the Caribbean: The Curse of the Bla...   \n",
       "492                                         Goodfellas   \n",
       "493                                  Kill Bill: Vol. 1   \n",
       "494                                             WALL·E   \n",
       "495                         Terminator 2: Judgment Day   \n",
       "496                                 The Usual Suspects   \n",
       "497                                         Braveheart   \n",
       "498         Star Wars: Episode VI - Return of the Jedi   \n",
       "499                                       Finding Nemo   \n",
       "\n",
       "                       Year  IMDB    Votes Restriction             Genre1  \\\n",
       "0                 1 9 9 4     9.3  2297597           R  Drama               \n",
       "1                 2 0 0 8     9.0  2261822       PG-13             Action   \n",
       "2                 2 0 1 0     8.8  2023823       PG-13             Action   \n",
       "3                 1 9 9 9     8.8  1821262           R  Drama               \n",
       "4                 1 9 9 4     8.9  1793933           R              Crime   \n",
       "5                 1 9 9 4     8.8  1770394       PG-13              Drama   \n",
       "6       2 0 1 1 – 2 0 1 9     9.3  1717705       TV-MA             Action   \n",
       "7                 1 9 9 9     8.7  1644803           R             Action   \n",
       "8                 2 0 0 1     8.8  1630944       PG-13             Action   \n",
       "9                 2 0 0 3     8.9  1615184       PG-13             Action   \n",
       "10                1 9 7 2     9.2  1585686           R              Crime   \n",
       "11                2 0 1 2     8.4  1492004       PG-13             Action   \n",
       "12                2 0 1 4     8.6  1469639       PG-13          Adventure   \n",
       "13                2 0 0 2     8.7  1459892       PG-13             Action   \n",
       "14                1 9 9 5     8.6  1415092           R              Crime   \n",
       "15      2 0 0 8 – 2 0 1 3     9.5  1406342       TV-MA              Crime   \n",
       "16                2 0 1 2     8.4  1329472           R              Drama   \n",
       "17                2 0 0 0     8.5  1317748           R             Action   \n",
       "18                2 0 0 5     8.2  1287848       PG-13             Action   \n",
       "19                2 0 1 2     8.0  1246863       PG-13             Action   \n",
       "20                1 9 9 1     8.6  1245696           R              Crime   \n",
       "21                2 0 0 9     8.3  1240302           R          Adventure   \n",
       "22                1 9 9 8     8.6  1213448           R              Drama   \n",
       "23                1 9 7 7     8.6  1211607          PG             Action   \n",
       "24                1 9 9 3     8.9  1192410           R          Biography   \n",
       "25                2 0 0 6     8.5  1168367           R              Crime   \n",
       "26                2 0 0 6     8.5  1166030       PG-13              Drama   \n",
       "27                2 0 1 3     8.2  1153560           R          Biography   \n",
       "28                1 9 8 0     8.7  1139862          PG             Action   \n",
       "29                1 9 9 9     8.6  1123080           R              Crime   \n",
       "..                      ...   ...      ...         ...                ...   \n",
       "470               1 9 9 1     8.6  1245696           R              Crime   \n",
       "471               2 0 0 9     8.3  1240302           R          Adventure   \n",
       "472               1 9 9 8     8.6  1213448           R              Drama   \n",
       "473               1 9 7 7     8.6  1211607          PG             Action   \n",
       "474               1 9 9 3     8.9  1192410           R          Biography   \n",
       "475               2 0 0 6     8.5  1168367           R              Crime   \n",
       "476               2 0 0 6     8.5  1166030       PG-13              Drama   \n",
       "477               2 0 1 3     8.2  1153560           R          Biography   \n",
       "478               1 9 8 0     8.7  1139862          PG             Action   \n",
       "479               1 9 9 9     8.6  1123080           R              Crime   \n",
       "480               2 0 0 0     8.4  1107818           R            Mystery   \n",
       "481               1 9 7 4     9.0  1107868           R              Crime   \n",
       "482               2 0 0 9     7.8  1106231       PG-13             Action   \n",
       "483               2 0 1 0     8.2  1106162           R            Mystery   \n",
       "484               1 9 9 9     8.3  1055121           R  Drama               \n",
       "485               1 9 8 5     8.5  1036912          PG          Adventure   \n",
       "486               1 9 9 7     7.8  1029275       PG-13              Drama   \n",
       "487               2 0 1 4     8.0  1029214       PG-13             Action   \n",
       "488               1 9 9 8     8.5  1020440           R  Drama               \n",
       "489               2 0 0 5     8.2  1016263           R             Action   \n",
       "490               1 9 9 4     8.5  1015947           R             Action   \n",
       "491               2 0 0 3     8.0  1005246       PG-13             Action   \n",
       "492               1 9 9 0     8.7  1000216           R          Biography   \n",
       "493               2 0 0 3     8.1   984369           R             Action   \n",
       "494               2 0 0 8     8.4   981770           G          Animation   \n",
       "495               1 9 9 1     8.5   981465           R             Action   \n",
       "496               1 9 9 5     8.5   975780           R              Crime   \n",
       "497               1 9 9 5     8.3   946814           R          Biography   \n",
       "498               1 9 8 3     8.3   934272          PG             Action   \n",
       "499               2 0 0 3     8.1   934202           G          Animation   \n",
       "\n",
       "                    Genre2                Genre3    Type  \n",
       "0                     None                  None   Movie  \n",
       "1                    Crime     Drama               Movie  \n",
       "2                Adventure    Sci-Fi               Movie  \n",
       "3                     None                  None   Movie  \n",
       "4        Drama                              None   Movie  \n",
       "5      Romance                              None   Movie  \n",
       "6                Adventure     Drama              Series  \n",
       "7       Sci-Fi                              None   Movie  \n",
       "8                Adventure     Drama               Movie  \n",
       "9                Adventure     Drama               Movie  \n",
       "10       Drama                              None   Movie  \n",
       "11   Adventure                              None   Movie  \n",
       "12                   Drama    Sci-Fi               Movie  \n",
       "13               Adventure     Drama               Movie  \n",
       "14                   Drama   Mystery               Movie  \n",
       "15                   Drama  Thriller              Series  \n",
       "16     Western                              None   Movie  \n",
       "17               Adventure     Drama               Movie  \n",
       "18   Adventure                              None   Movie  \n",
       "19               Adventure    Sci-Fi               Movie  \n",
       "20                   Drama  Thriller               Movie  \n",
       "21                   Drama       War               Movie  \n",
       "22         War                              None   Movie  \n",
       "23               Adventure   Fantasy               Movie  \n",
       "24                   Drama   History               Movie  \n",
       "25                   Drama  Thriller               Movie  \n",
       "26                 Mystery    Sci-Fi               Movie  \n",
       "27                   Crime     Drama               Movie  \n",
       "28               Adventure   Fantasy               Movie  \n",
       "29                   Drama   Fantasy               Movie  \n",
       "..                     ...                   ...     ...  \n",
       "470                  Drama  Thriller               Movie  \n",
       "471                  Drama       War               Movie  \n",
       "472        War                              None   Movie  \n",
       "473              Adventure   Fantasy               Movie  \n",
       "474                  Drama   History               Movie  \n",
       "475                  Drama  Thriller               Movie  \n",
       "476                Mystery    Sci-Fi               Movie  \n",
       "477                  Crime     Drama               Movie  \n",
       "478              Adventure   Fantasy               Movie  \n",
       "479                  Drama   Fantasy               Movie  \n",
       "480   Thriller                              None   Movie  \n",
       "481      Drama                              None   Movie  \n",
       "482              Adventure   Fantasy               Movie  \n",
       "483   Thriller                              None   Movie  \n",
       "484                   None                  None   Movie  \n",
       "485                 Comedy    Sci-Fi               Movie  \n",
       "486    Romance                              None   Movie  \n",
       "487              Adventure    Comedy               Movie  \n",
       "488                   None                  None   Movie  \n",
       "489                  Drama    Sci-Fi               Movie  \n",
       "490                  Crime     Drama               Movie  \n",
       "491              Adventure   Fantasy               Movie  \n",
       "492                  Crime     Drama               Movie  \n",
       "493                  Crime  Thriller               Movie  \n",
       "494              Adventure    Family               Movie  \n",
       "495     Sci-Fi                              None   Movie  \n",
       "496                Mystery  Thriller               Movie  \n",
       "497                  Drama   History               Movie  \n",
       "498              Adventure   Fantasy               Movie  \n",
       "499              Adventure    Comedy               Movie  \n",
       "\n",
       "[500 rows x 9 columns]"
      ]
     },
     "execution_count": 120,
     "metadata": {},
     "output_type": "execute_result"
    }
   ],
   "source": [
    "Media_extr['Type'] = Media_extr['Type'].fillna(value=str('Movie'))\n",
    "Media_extr"
   ]
  },
  {
   "cell_type": "markdown",
   "metadata": {},
   "source": [
    "### Renaming column 1"
   ]
  },
  {
   "cell_type": "code",
   "execution_count": 121,
   "metadata": {},
   "outputs": [],
   "source": [
    "Media_extr = Media_extr.rename({' ': 'Num'}, axis=1)"
   ]
  },
  {
   "cell_type": "markdown",
   "metadata": {},
   "source": [
    "### Export Table as file"
   ]
  },
  {
   "cell_type": "code",
   "execution_count": 123,
   "metadata": {},
   "outputs": [],
   "source": [
    "Media_extr.to_csv(\"Extracted Media.csv\")"
   ]
  }
 ],
 "metadata": {
  "kernelspec": {
   "display_name": "Python 3",
   "language": "python",
   "name": "python3"
  },
  "language_info": {
   "codemirror_mode": {
    "name": "ipython",
    "version": 3
   },
   "file_extension": ".py",
   "mimetype": "text/x-python",
   "name": "python",
   "nbconvert_exporter": "python",
   "pygments_lexer": "ipython3",
   "version": "3.6.5"
  }
 },
 "nbformat": 4,
 "nbformat_minor": 2
}
